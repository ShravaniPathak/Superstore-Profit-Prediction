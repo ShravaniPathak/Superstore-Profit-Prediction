{
  "metadata": {
    "kernelspec": {
      "language": "python",
      "display_name": "Python 3",
      "name": "python3"
    },
    "language_info": {
      "name": "python",
      "version": "3.10.14",
      "mimetype": "text/x-python",
      "codemirror_mode": {
        "name": "ipython",
        "version": 3
      },
      "pygments_lexer": "ipython3",
      "nbconvert_exporter": "python",
      "file_extension": ".py"
    },
    "kaggle": {
      "accelerator": "none",
      "dataSources": [
        {
          "sourceId": 3196104,
          "sourceType": "datasetVersion",
          "datasetId": 1940216
        }
      ],
      "dockerImageVersionId": 30775,
      "isInternetEnabled": false,
      "language": "python",
      "sourceType": "notebook",
      "isGpuEnabled": false
    },
    "colab": {
      "name": "Superstore Dataset Linear Regression",
      "provenance": [],
      "include_colab_link": true
    }
  },
  "nbformat_minor": 0,
  "nbformat": 4,
  "cells": [
    {
      "cell_type": "markdown",
      "metadata": {
        "id": "view-in-github",
        "colab_type": "text"
      },
      "source": [
        "<a href=\"https://colab.research.google.com/github/ShravaniPathak/Superstore-Profit-Prediction/blob/main/Superstore_Dataset_Linear_Regression.ipynb\" target=\"_parent\"><img src=\"https://colab.research.google.com/assets/colab-badge.svg\" alt=\"Open In Colab\"/></a>"
      ]
    },
    {
      "source": [
        "\n",
        "# IMPORTANT: RUN THIS CELL IN ORDER TO IMPORT YOUR KAGGLE DATA SOURCES\n",
        "# TO THE CORRECT LOCATION (/kaggle/input) IN YOUR NOTEBOOK,\n",
        "# THEN FEEL FREE TO DELETE THIS CELL.\n",
        "# NOTE: THIS NOTEBOOK ENVIRONMENT DIFFERS FROM KAGGLE'S PYTHON\n",
        "# ENVIRONMENT SO THERE MAY BE MISSING LIBRARIES USED BY YOUR\n",
        "# NOTEBOOK.\n",
        "\n",
        "import os\n",
        "import sys\n",
        "from tempfile import NamedTemporaryFile\n",
        "from urllib.request import urlopen\n",
        "from urllib.parse import unquote, urlparse\n",
        "from urllib.error import HTTPError\n",
        "from zipfile import ZipFile\n",
        "import tarfile\n",
        "import shutil\n",
        "\n",
        "CHUNK_SIZE = 40960\n",
        "DATA_SOURCE_MAPPING = 'superstore-dataset-final:https%3A%2F%2Fstorage.googleapis.com%2Fkaggle-data-sets%2F1940216%2F3196104%2Fbundle%2Farchive.zip%3FX-Goog-Algorithm%3DGOOG4-RSA-SHA256%26X-Goog-Credential%3Dgcp-kaggle-com%2540kaggle-161607.iam.gserviceaccount.com%252F20240929%252Fauto%252Fstorage%252Fgoog4_request%26X-Goog-Date%3D20240929T184953Z%26X-Goog-Expires%3D259200%26X-Goog-SignedHeaders%3Dhost%26X-Goog-Signature%3D7a6c86d77c419d122363e4210d2e5636d90d03bbeb0e14615d34da230fab8e47061c37fd7b660d08bb46c26c1247ba70af24483cee626beb17099ce0e656f12763d69b0c336fa4892ca481d6a6c07b025aac8af8d43d1997fb0b3e45e856a4a9ca4b2371e27cb00d90f7c85499ef44d4e675a8a5f604d4160a5a64e3b90adbac83e66ae72209d1fda9b8e55e30d669e420b2ea3c18243b72abf1062f2380f6e9d6f5e041d58902495af50650ea24e444f4d1302b9888f3338ba4ab1c83157d337fcb214569f738adf2dfdace1df4bd0ff4a62d8fe0c3f1f02d04ef55d0eb1ee0e3cd83a8cb17ad6a53b4314e70d85f253363b174f70e5063fc809f08abc88c4c'\n",
        "\n",
        "KAGGLE_INPUT_PATH='/kaggle/input'\n",
        "KAGGLE_WORKING_PATH='/kaggle/working'\n",
        "KAGGLE_SYMLINK='kaggle'\n",
        "\n",
        "!umount /kaggle/input/ 2> /dev/null\n",
        "shutil.rmtree('/kaggle/input', ignore_errors=True)\n",
        "os.makedirs(KAGGLE_INPUT_PATH, 0o777, exist_ok=True)\n",
        "os.makedirs(KAGGLE_WORKING_PATH, 0o777, exist_ok=True)\n",
        "\n",
        "try:\n",
        "  os.symlink(KAGGLE_INPUT_PATH, os.path.join(\"..\", 'input'), target_is_directory=True)\n",
        "except FileExistsError:\n",
        "  pass\n",
        "try:\n",
        "  os.symlink(KAGGLE_WORKING_PATH, os.path.join(\"..\", 'working'), target_is_directory=True)\n",
        "except FileExistsError:\n",
        "  pass\n",
        "\n",
        "for data_source_mapping in DATA_SOURCE_MAPPING.split(','):\n",
        "    directory, download_url_encoded = data_source_mapping.split(':')\n",
        "    download_url = unquote(download_url_encoded)\n",
        "    filename = urlparse(download_url).path\n",
        "    destination_path = os.path.join(KAGGLE_INPUT_PATH, directory)\n",
        "    try:\n",
        "        with urlopen(download_url) as fileres, NamedTemporaryFile() as tfile:\n",
        "            total_length = fileres.headers['content-length']\n",
        "            print(f'Downloading {directory}, {total_length} bytes compressed')\n",
        "            dl = 0\n",
        "            data = fileres.read(CHUNK_SIZE)\n",
        "            while len(data) > 0:\n",
        "                dl += len(data)\n",
        "                tfile.write(data)\n",
        "                done = int(50 * dl / int(total_length))\n",
        "                sys.stdout.write(f\"\\r[{'=' * done}{' ' * (50-done)}] {dl} bytes downloaded\")\n",
        "                sys.stdout.flush()\n",
        "                data = fileres.read(CHUNK_SIZE)\n",
        "            if filename.endswith('.zip'):\n",
        "              with ZipFile(tfile) as zfile:\n",
        "                zfile.extractall(destination_path)\n",
        "            else:\n",
        "              with tarfile.open(tfile.name) as tarfile:\n",
        "                tarfile.extractall(destination_path)\n",
        "            print(f'\\nDownloaded and uncompressed: {directory}')\n",
        "    except HTTPError as e:\n",
        "        print(f'Failed to load (likely expired) {download_url} to path {destination_path}')\n",
        "        continue\n",
        "    except OSError as e:\n",
        "        print(f'Failed to load {download_url} to path {destination_path}')\n",
        "        continue\n",
        "\n",
        "print('Data source import complete.')\n"
      ],
      "metadata": {
        "id": "-eYtdV1jHjm0"
      },
      "cell_type": "code",
      "outputs": [],
      "execution_count": null
    },
    {
      "cell_type": "code",
      "source": [
        "import pandas as pd\n",
        "import matplotlib.pyplot as plt\n",
        "import seaborn as sns\n",
        "import warnings\n",
        "warnings.filterwarnings('ignore')\n"
      ],
      "metadata": {
        "execution": {
          "iopub.status.busy": "2024-09-29T18:22:11.41554Z",
          "iopub.execute_input": "2024-09-29T18:22:11.416124Z",
          "iopub.status.idle": "2024-09-29T18:22:14.918279Z",
          "shell.execute_reply.started": "2024-09-29T18:22:11.416066Z",
          "shell.execute_reply": "2024-09-29T18:22:14.916705Z"
        },
        "trusted": true,
        "id": "p2cFZHSAHjm9"
      },
      "execution_count": null,
      "outputs": []
    },
    {
      "cell_type": "code",
      "source": [
        "df = pd.read_csv(\"/kaggle/input/superstore-dataset-final/Sample - Superstore.csv\", encoding='windows-1252')\n"
      ],
      "metadata": {
        "execution": {
          "iopub.status.busy": "2024-09-29T18:22:24.159185Z",
          "iopub.execute_input": "2024-09-29T18:22:24.159826Z",
          "iopub.status.idle": "2024-09-29T18:22:24.249049Z",
          "shell.execute_reply.started": "2024-09-29T18:22:24.159763Z",
          "shell.execute_reply": "2024-09-29T18:22:24.247543Z"
        },
        "trusted": true,
        "id": "V667PYhPHjm-"
      },
      "execution_count": null,
      "outputs": []
    },
    {
      "cell_type": "code",
      "source": [
        "df.head()"
      ],
      "metadata": {
        "execution": {
          "iopub.status.busy": "2024-09-29T18:25:43.295024Z",
          "iopub.execute_input": "2024-09-29T18:25:43.295645Z",
          "iopub.status.idle": "2024-09-29T18:25:43.330561Z",
          "shell.execute_reply.started": "2024-09-29T18:25:43.29559Z",
          "shell.execute_reply": "2024-09-29T18:25:43.329037Z"
        },
        "trusted": true,
        "id": "YvYL-q2uHjm-"
      },
      "execution_count": null,
      "outputs": []
    },
    {
      "cell_type": "code",
      "source": [
        "df.shape"
      ],
      "metadata": {
        "execution": {
          "iopub.status.busy": "2024-09-29T18:25:56.988259Z",
          "iopub.execute_input": "2024-09-29T18:25:56.988752Z",
          "iopub.status.idle": "2024-09-29T18:25:56.996529Z",
          "shell.execute_reply.started": "2024-09-29T18:25:56.988705Z",
          "shell.execute_reply": "2024-09-29T18:25:56.995212Z"
        },
        "trusted": true,
        "id": "Ap6rDE7THjm_"
      },
      "execution_count": null,
      "outputs": []
    },
    {
      "cell_type": "code",
      "source": [
        "df.describe()"
      ],
      "metadata": {
        "execution": {
          "iopub.status.busy": "2024-09-29T18:27:07.158093Z",
          "iopub.execute_input": "2024-09-29T18:27:07.159279Z",
          "iopub.status.idle": "2024-09-29T18:27:07.197552Z",
          "shell.execute_reply.started": "2024-09-29T18:27:07.159222Z",
          "shell.execute_reply": "2024-09-29T18:27:07.196024Z"
        },
        "trusted": true,
        "id": "YEuLDmMsHjm_"
      },
      "execution_count": null,
      "outputs": []
    },
    {
      "cell_type": "code",
      "source": [
        "for i in df.columns:\n",
        "    j=df[i].nunique()\n",
        "    print(f\"{i} : {j}\")"
      ],
      "metadata": {
        "execution": {
          "iopub.status.busy": "2024-09-29T18:28:32.931109Z",
          "iopub.execute_input": "2024-09-29T18:28:32.931722Z",
          "iopub.status.idle": "2024-09-29T18:28:32.976027Z",
          "shell.execute_reply.started": "2024-09-29T18:28:32.931663Z",
          "shell.execute_reply": "2024-09-29T18:28:32.974206Z"
        },
        "trusted": true,
        "id": "F_0yJ5AfHjnA"
      },
      "execution_count": null,
      "outputs": []
    },
    {
      "cell_type": "code",
      "source": [
        "Num_df=df.select_dtypes(include=['number'])\n",
        "Num_df\n"
      ],
      "metadata": {
        "execution": {
          "iopub.status.busy": "2024-09-29T18:30:59.100806Z",
          "iopub.execute_input": "2024-09-29T18:30:59.102427Z",
          "iopub.status.idle": "2024-09-29T18:30:59.121314Z",
          "shell.execute_reply.started": "2024-09-29T18:30:59.102364Z",
          "shell.execute_reply": "2024-09-29T18:30:59.120126Z"
        },
        "trusted": true,
        "id": "WInXwPyQHjnB"
      },
      "execution_count": null,
      "outputs": []
    },
    {
      "cell_type": "code",
      "source": [
        "from sklearn.linear_model import LinearRegression\n",
        "from sklearn.model_selection import train_test_split\n",
        "\n",
        "model=LinearRegression()\n"
      ],
      "metadata": {
        "execution": {
          "iopub.status.busy": "2024-09-29T18:44:37.173762Z",
          "iopub.execute_input": "2024-09-29T18:44:37.174748Z",
          "iopub.status.idle": "2024-09-29T18:44:37.186267Z",
          "shell.execute_reply.started": "2024-09-29T18:44:37.174682Z",
          "shell.execute_reply": "2024-09-29T18:44:37.184751Z"
        },
        "trusted": true,
        "id": "wb9E1QM_HjnC"
      },
      "execution_count": null,
      "outputs": []
    },
    {
      "cell_type": "code",
      "source": [
        "from sklearn.preprocessing import StandardScaler\n",
        "# Take Sales as independent variable and Profit as dependent variable\n",
        "X = df[\"Sales\"]\n",
        "y = df[\"Profit\"]\n",
        "\n",
        "# Reshape X to be 2D for training/testing\n",
        "X = X.values.reshape(-1, 1)\n",
        "\n",
        "# Splitting the dataset into training and test sets\n",
        "X_train, X_test, y_train, y_test = train_test_split(X, y, test_size=0.2, random_state=0)\n",
        "\n",
        "# Standardizing the data\n",
        "scaler = StandardScaler()\n",
        "X_train_final = scaler.fit_transform(X_train)\n",
        "X_test_final = scaler.transform(X_test)\n"
      ],
      "metadata": {
        "execution": {
          "iopub.status.busy": "2024-09-29T18:44:42.039004Z",
          "iopub.execute_input": "2024-09-29T18:44:42.039546Z",
          "iopub.status.idle": "2024-09-29T18:44:42.055067Z",
          "shell.execute_reply.started": "2024-09-29T18:44:42.039495Z",
          "shell.execute_reply": "2024-09-29T18:44:42.053394Z"
        },
        "trusted": true,
        "id": "O3T6rv6dHjnD"
      },
      "execution_count": null,
      "outputs": []
    },
    {
      "cell_type": "code",
      "source": [
        "X_train.shape,y_train.shape,X_val.shape,y_test.shape\n"
      ],
      "metadata": {
        "execution": {
          "iopub.status.busy": "2024-09-29T18:44:39.825698Z",
          "iopub.execute_input": "2024-09-29T18:44:39.826278Z",
          "iopub.status.idle": "2024-09-29T18:44:39.835741Z",
          "shell.execute_reply.started": "2024-09-29T18:44:39.826221Z",
          "shell.execute_reply": "2024-09-29T18:44:39.834234Z"
        },
        "trusted": true,
        "id": "CZYep95DHjnD"
      },
      "execution_count": null,
      "outputs": []
    },
    {
      "cell_type": "code",
      "source": [
        "model.fit(X_train_final,y_train)"
      ],
      "metadata": {
        "execution": {
          "iopub.status.busy": "2024-09-29T18:45:21.948789Z",
          "iopub.execute_input": "2024-09-29T18:45:21.949411Z",
          "iopub.status.idle": "2024-09-29T18:45:21.990971Z",
          "shell.execute_reply.started": "2024-09-29T18:45:21.949358Z",
          "shell.execute_reply": "2024-09-29T18:45:21.989461Z"
        },
        "trusted": true,
        "id": "fE4_PkTRHjnD"
      },
      "execution_count": null,
      "outputs": []
    },
    {
      "cell_type": "code",
      "source": [
        "prediction=model.predict(X_train_final)"
      ],
      "metadata": {
        "execution": {
          "iopub.status.busy": "2024-09-29T18:45:45.686586Z",
          "iopub.execute_input": "2024-09-29T18:45:45.687873Z",
          "iopub.status.idle": "2024-09-29T18:45:45.700901Z",
          "shell.execute_reply.started": "2024-09-29T18:45:45.687803Z",
          "shell.execute_reply": "2024-09-29T18:45:45.698904Z"
        },
        "trusted": true,
        "id": "vIECY3FvHjnD"
      },
      "execution_count": null,
      "outputs": []
    },
    {
      "cell_type": "code",
      "source": [
        "from sklearn.metrics import mean_squared_error\n",
        "from sklearn.metrics import mean_absolute_error\n",
        "\n",
        "rmse_train_lin=(mean_squared_error(y_train,prediction))**0.5\n",
        "amse_train_lin=mean_absolute_error(y_train,prediction)\n",
        "\n",
        "\n",
        "print(f'RMSE  Train By Linear -----> {rmse_train_lin:0.2f} ')\n",
        "print(f'AMSE  Train By Linear -----> {amse_train_lin:0.2f} ')\n"
      ],
      "metadata": {
        "execution": {
          "iopub.status.busy": "2024-09-29T18:47:02.122152Z",
          "iopub.execute_input": "2024-09-29T18:47:02.122652Z",
          "iopub.status.idle": "2024-09-29T18:47:02.13314Z",
          "shell.execute_reply.started": "2024-09-29T18:47:02.122605Z",
          "shell.execute_reply": "2024-09-29T18:47:02.131946Z"
        },
        "trusted": true,
        "id": "yJ4EpzpeHjnD"
      },
      "execution_count": null,
      "outputs": []
    },
    {
      "cell_type": "code",
      "source": [
        "test_prediction=model.predict(X_test)"
      ],
      "metadata": {
        "execution": {
          "iopub.status.busy": "2024-09-29T18:47:37.981006Z",
          "iopub.execute_input": "2024-09-29T18:47:37.981585Z",
          "iopub.status.idle": "2024-09-29T18:47:37.999802Z",
          "shell.execute_reply.started": "2024-09-29T18:47:37.981531Z",
          "shell.execute_reply": "2024-09-29T18:47:37.997452Z"
        },
        "trusted": true,
        "id": "-Hel3JUXHjnE"
      },
      "execution_count": null,
      "outputs": []
    },
    {
      "cell_type": "code",
      "source": [
        "rmse_test_lin=(mean_squared_error(y_test,test_prediction))**0.5\n",
        "amse_test_lin=mean_absolute_error(y_test,test_prediction)\n",
        "\n",
        "\n",
        "print(f'RMSE  test By Linear -----> {rmse_test_lin:0.2f} ')\n",
        "print(f'AMSE  test By Linear -----> {amse_test_lin:0.2f} ')\n"
      ],
      "metadata": {
        "execution": {
          "iopub.status.busy": "2024-09-29T18:48:02.182055Z",
          "iopub.execute_input": "2024-09-29T18:48:02.182743Z",
          "iopub.status.idle": "2024-09-29T18:48:02.193827Z",
          "shell.execute_reply.started": "2024-09-29T18:48:02.182668Z",
          "shell.execute_reply": "2024-09-29T18:48:02.192283Z"
        },
        "trusted": true,
        "id": "t4lGNKEyHjnE"
      },
      "execution_count": null,
      "outputs": []
    }
  ]
}