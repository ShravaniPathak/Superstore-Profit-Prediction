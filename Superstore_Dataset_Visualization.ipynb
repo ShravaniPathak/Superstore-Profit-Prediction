{
  "nbformat": 4,
  "nbformat_minor": 0,
  "metadata": {
    "colab": {
      "provenance": [],
      "authorship_tag": "ABX9TyOz0hnB6+21XZDA0lrY2KjA",
      "include_colab_link": true
    },
    "kernelspec": {
      "name": "python3",
      "display_name": "Python 3"
    },
    "language_info": {
      "name": "python"
    }
  },
  "cells": [
    {
      "cell_type": "markdown",
      "metadata": {
        "id": "view-in-github",
        "colab_type": "text"
      },
      "source": [
        "<a href=\"https://colab.research.google.com/github/ShravaniPathak/Superstore-Profit-Prediction/blob/main/Superstore_Dataset_Visualization.ipynb\" target=\"_parent\"><img src=\"https://colab.research.google.com/assets/colab-badge.svg\" alt=\"Open In Colab\"/></a>"
      ]
    },
    {
      "source": [
        "\n",
        "# IMPORTANT: RUN THIS CELL IN ORDER TO IMPORT YOUR KAGGLE DATA SOURCES\n",
        "# TO THE CORRECT LOCATION (/kaggle/input) IN YOUR NOTEBOOK,\n",
        "# THEN FEEL FREE TO DELETE THIS CELL.\n",
        "# NOTE: THIS NOTEBOOK ENVIRONMENT DIFFERS FROM KAGGLE'S PYTHON\n",
        "# ENVIRONMENT SO THERE MAY BE MISSING LIBRARIES USED BY YOUR\n",
        "# NOTEBOOK.\n",
        "\n",
        "import os\n",
        "import sys\n",
        "from tempfile import NamedTemporaryFile\n",
        "from urllib.request import urlopen\n",
        "from urllib.parse import unquote, urlparse\n",
        "from urllib.error import HTTPError\n",
        "from zipfile import ZipFile\n",
        "import tarfile\n",
        "import shutil\n",
        "\n",
        "CHUNK_SIZE = 40960\n",
        "DATA_SOURCE_MAPPING = 'superstore-dataset-final:https%3A%2F%2Fstorage.googleapis.com%2Fkaggle-data-sets%2F1940216%2F3196104%2Fbundle%2Farchive.zip%3FX-Goog-Algorithm%3DGOOG4-RSA-SHA256%26X-Goog-Credential%3Dgcp-kaggle-com%2540kaggle-161607.iam.gserviceaccount.com%252F20240929%252Fauto%252Fstorage%252Fgoog4_request%26X-Goog-Date%3D20240929T184953Z%26X-Goog-Expires%3D259200%26X-Goog-SignedHeaders%3Dhost%26X-Goog-Signature%3D7a6c86d77c419d122363e4210d2e5636d90d03bbeb0e14615d34da230fab8e47061c37fd7b660d08bb46c26c1247ba70af24483cee626beb17099ce0e656f12763d69b0c336fa4892ca481d6a6c07b025aac8af8d43d1997fb0b3e45e856a4a9ca4b2371e27cb00d90f7c85499ef44d4e675a8a5f604d4160a5a64e3b90adbac83e66ae72209d1fda9b8e55e30d669e420b2ea3c18243b72abf1062f2380f6e9d6f5e041d58902495af50650ea24e444f4d1302b9888f3338ba4ab1c83157d337fcb214569f738adf2dfdace1df4bd0ff4a62d8fe0c3f1f02d04ef55d0eb1ee0e3cd83a8cb17ad6a53b4314e70d85f253363b174f70e5063fc809f08abc88c4c'\n",
        "\n",
        "KAGGLE_INPUT_PATH='/kaggle/input'\n",
        "KAGGLE_WORKING_PATH='/kaggle/working'\n",
        "KAGGLE_SYMLINK='kaggle'\n",
        "\n",
        "!umount /kaggle/input/ 2> /dev/null\n",
        "shutil.rmtree('/kaggle/input', ignore_errors=True)\n",
        "os.makedirs(KAGGLE_INPUT_PATH, 0o777, exist_ok=True)\n",
        "os.makedirs(KAGGLE_WORKING_PATH, 0o777, exist_ok=True)\n",
        "\n",
        "try:\n",
        "  os.symlink(KAGGLE_INPUT_PATH, os.path.join(\"..\", 'input'), target_is_directory=True)\n",
        "except FileExistsError:\n",
        "  pass\n",
        "try:\n",
        "  os.symlink(KAGGLE_WORKING_PATH, os.path.join(\"..\", 'working'), target_is_directory=True)\n",
        "except FileExistsError:\n",
        "  pass\n",
        "\n",
        "for data_source_mapping in DATA_SOURCE_MAPPING.split(','):\n",
        "    directory, download_url_encoded = data_source_mapping.split(':')\n",
        "    download_url = unquote(download_url_encoded)\n",
        "    filename = urlparse(download_url).path\n",
        "    destination_path = os.path.join(KAGGLE_INPUT_PATH, directory)\n",
        "    try:\n",
        "        with urlopen(download_url) as fileres, NamedTemporaryFile() as tfile:\n",
        "            total_length = fileres.headers['content-length']\n",
        "            print(f'Downloading {directory}, {total_length} bytes compressed')\n",
        "            dl = 0\n",
        "            data = fileres.read(CHUNK_SIZE)\n",
        "            while len(data) > 0:\n",
        "                dl += len(data)\n",
        "                tfile.write(data)\n",
        "                done = int(50 * dl / int(total_length))\n",
        "                sys.stdout.write(f\"\\r[{'=' * done}{' ' * (50-done)}] {dl} bytes downloaded\")\n",
        "                sys.stdout.flush()\n",
        "                data = fileres.read(CHUNK_SIZE)\n",
        "            if filename.endswith('.zip'):\n",
        "              with ZipFile(tfile) as zfile:\n",
        "                zfile.extractall(destination_path)\n",
        "            else:\n",
        "              with tarfile.open(tfile.name) as tarfile:\n",
        "                tarfile.extractall(destination_path)\n",
        "            print(f'\\nDownloaded and uncompressed: {directory}')\n",
        "    except HTTPError as e:\n",
        "        print(f'Failed to load (likely expired) {download_url} to path {destination_path}')\n",
        "        continue\n",
        "    except OSError as e:\n",
        "        print(f'Failed to load {download_url} to path {destination_path}')\n",
        "        continue\n",
        "\n",
        "print('Data source import complete.')\n"
      ],
      "metadata": {
        "id": "-eYtdV1jHjm0"
      },
      "cell_type": "code",
      "outputs": [],
      "execution_count": null
    },
    {
      "cell_type": "code",
      "source": [
        "import pandas as pd\n",
        "import matplotlib.pyplot as plt\n",
        "import seaborn as sns\n",
        "import warnings\n",
        "warnings.filterwarnings('ignore')\n"
      ],
      "metadata": {
        "execution": {
          "iopub.status.busy": "2024-09-29T18:22:11.41554Z",
          "iopub.execute_input": "2024-09-29T18:22:11.416124Z",
          "iopub.status.idle": "2024-09-29T18:22:14.918279Z",
          "shell.execute_reply.started": "2024-09-29T18:22:11.416066Z",
          "shell.execute_reply": "2024-09-29T18:22:14.916705Z"
        },
        "trusted": true,
        "id": "p2cFZHSAHjm9"
      },
      "execution_count": null,
      "outputs": []
    },
    {
      "cell_type": "code",
      "source": [
        "df = pd.read_csv(\"/kaggle/input/superstore-dataset-final/Sample - Superstore.csv\", encoding='windows-1252')\n"
      ],
      "metadata": {
        "execution": {
          "iopub.status.busy": "2024-09-29T18:22:24.159185Z",
          "iopub.execute_input": "2024-09-29T18:22:24.159826Z",
          "iopub.status.idle": "2024-09-29T18:22:24.249049Z",
          "shell.execute_reply.started": "2024-09-29T18:22:24.159763Z",
          "shell.execute_reply": "2024-09-29T18:22:24.247543Z"
        },
        "trusted": true,
        "id": "V667PYhPHjm-"
      },
      "execution_count": null,
      "outputs": []
    },
    {
      "cell_type": "code",
      "source": [
        "#Distribution of Target Variable (Profit)\n",
        "plt.figure(figsize=(10, 6))\n",
        "sns.histplot(df['Profit'], bins=30, kde=True)\n",
        "plt.title('Distribution of Profit')\n",
        "plt.xlabel('Profit')\n",
        "plt.ylabel('Frequency')\n",
        "plt.show()\n"
      ],
      "metadata": {
        "id": "EdBum-uEsipU"
      },
      "execution_count": null,
      "outputs": []
    },
    {
      "cell_type": "code",
      "source": [
        "#Sales vs profit\n",
        "plt.figure(figsize=(10, 6))\n",
        "sns.scatterplot(data=df, x='Sales', y='Profit', alpha=0.6)\n",
        "plt.title('Sales vs. Profit')\n",
        "plt.xlabel('Sales')\n",
        "plt.ylabel('Profit')\n",
        "plt.show()\n"
      ],
      "metadata": {
        "id": "A-rTMhJFM_eS"
      },
      "execution_count": null,
      "outputs": []
    },
    {
      "cell_type": "code",
      "source": [
        "#Profit Distribution by Category\n",
        "plt.figure(figsize=(12, 6))\n",
        "sns.boxplot(data=df, x='Category', y='Profit')\n",
        "plt.title('Profit Distribution by Category')\n",
        "plt.xlabel('Category')\n",
        "plt.ylabel('Profit')\n",
        "plt.show()\n"
      ],
      "metadata": {
        "id": "KXMo2uAMNEK0"
      },
      "execution_count": null,
      "outputs": []
    },
    {
      "cell_type": "code",
      "source": [
        "#Profit vs. Discount\n",
        "plt.figure(figsize=(10, 6))\n",
        "sns.scatterplot(data=df, x='Discount', y='Profit', alpha=0.6)\n",
        "plt.title('Profit vs. Discount')\n",
        "plt.xlabel('Discount')\n",
        "plt.ylabel('Profit')\n",
        "plt.show()\n"
      ],
      "metadata": {
        "id": "7iN_hhM1NGQs"
      },
      "execution_count": null,
      "outputs": []
    },
    {
      "cell_type": "code",
      "source": [
        "# Convert 'Order Date' to datetime\n",
        "df['Order Date'] = pd.to_datetime(df['Order Date'])\n",
        "\n",
        "# Group by date and sum sales\n",
        "daily_sales = df.groupby(df['Order Date'].dt.date)['Sales'].sum().reset_index()\n",
        "\n",
        "plt.figure(figsize=(12, 6))\n",
        "plt.plot(daily_sales['Order Date'], daily_sales['Sales'], marker='o')\n",
        "plt.title('Daily Sales Over Time')\n",
        "plt.xlabel('Date')\n",
        "plt.ylabel('Sales')\n",
        "plt.xticks(rotation=45)\n",
        "plt.show()\n"
      ],
      "metadata": {
        "id": "dkjcpHqYNIeK"
      },
      "execution_count": null,
      "outputs": []
    }
  ]
}